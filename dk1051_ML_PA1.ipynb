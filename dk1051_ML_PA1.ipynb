{
  "cells": [
    {
      "cell_type": "markdown",
      "metadata": {
        "id": "DAO8AZsc266y"
      },
      "source": [
        "# Daksh Khetarpaul\n",
        "# Programming Exercise \\#1\n",
        "---"
      ]
    },
    {
      "cell_type": "markdown",
      "metadata": {
        "id": "rJOtXeNg38_u"
      },
      "source": [
        "# Preamble"
      ]
    },
    {
      "cell_type": "code",
      "execution_count": 1,
      "metadata": {
        "id": "Ldu0WSDK4IjA"
      },
      "outputs": [
        {
          "data": {
            "text/plain": [
              "\"\\n# mount Google Drive in Google Colab\\nfrom google.colab import drive\\ndrive.mount('/content/drive')\\n\\n# change directory using the magic command %cd\\n### replace [MY PATH] below with your own path in Google Drive ###\\n### %cd /content/drive/My\\\\ Drive/[MY PATH] ###\\n\""
            ]
          },
          "execution_count": 1,
          "metadata": {},
          "output_type": "execute_result"
        }
      ],
      "source": [
        "# optional code cell when using Google Colab with Google Drive\n",
        "\n",
        "# remove the docstring comment block below in order to mount Google Drive\n",
        "'''\n",
        "# mount Google Drive in Google Colab\n",
        "from google.colab import drive\n",
        "drive.mount('/content/drive')\n",
        "\n",
        "# change directory using the magic command %cd\n",
        "### replace [MY PATH] below with your own path in Google Drive ###\n",
        "### %cd /content/drive/My\\ Drive/[MY PATH] ###\n",
        "'''"
      ]
    },
    {
      "cell_type": "code",
      "execution_count": 2,
      "metadata": {
        "id": "rjUKWdVD_Eqh"
      },
      "outputs": [],
      "source": [
        "# import relevant Python libraries\n",
        "\n",
        "\n",
        "import numpy as np\n",
        "import pandas as pd\n",
        "from scipy import stats as sps\n",
        "from IPython.display import display, Latex"
      ]
    },
    {
      "cell_type": "markdown",
      "metadata": {
        "id": "PeHo02TLz-hL"
      },
      "source": [
        "# **1. Fetal Health Classification Dataset**"
      ]
    },
    {
      "cell_type": "markdown",
      "metadata": {
        "id": "wnzH3Rd2vu-l"
      },
      "source": [
        "## **Clean Dataset**"
      ]
    },
    {
      "cell_type": "markdown",
      "metadata": {
        "id": "qmMHJttez-hM"
      },
      "source": [
        "### Problem 1.1"
      ]
    },
    {
      "cell_type": "code",
      "execution_count": 3,
      "metadata": {
        "id": "IgKSHxewsRdP"
      },
      "outputs": [],
      "source": [
        "\n",
        "\n",
        "fetal_df = pd.read_csv('fetal_health_dataset_clean.csv') "
      ]
    },
    {
      "cell_type": "markdown",
      "metadata": {
        "id": "EKQZRr9Dz-hN"
      },
      "source": [
        "#### (a)"
      ]
    },
    {
      "cell_type": "markdown",
      "metadata": {
        "id": "9eH6uWf4z-hN"
      },
      "source": [
        "It is a supervised Machine Learning Task because the data has already been classified by experts into 3 classes"
      ]
    },
    {
      "cell_type": "markdown",
      "metadata": {
        "id": "77c-6U-_z-hO"
      },
      "source": [
        "#### (b)"
      ]
    },
    {
      "cell_type": "code",
      "execution_count": 4,
      "metadata": {
        "id": "530SUQVjz-hP"
      },
      "outputs": [
        {
          "name": "stdout",
          "output_type": "stream",
          "text": [
            "[RangeIndex(start=0, stop=2126, step=1), Index(['baseline value', 'accelerations', 'fetal_movement',\n",
            "       'uterine_contractions', 'light_decelerations', 'severe_decelerations',\n",
            "       'prolongued_decelerations', 'abnormal_short_term_variability',\n",
            "       'mean_value_of_short_term_variability',\n",
            "       'percentage_of_time_with_abnormal_long_term_variability',\n",
            "       'mean_value_of_long_term_variability', 'histogram_width',\n",
            "       'histogram_min', 'histogram_max', 'histogram_number_of_peaks',\n",
            "       'histogram_number_of_zeroes', 'histogram_mode', 'histogram_mean',\n",
            "       'histogram_median', 'histogram_variance', 'histogram_tendency',\n",
            "       'fetal_health'],\n",
            "      dtype='object')]\n",
            "baseline value                                              int64\n",
            "accelerations                                             float64\n",
            "fetal_movement                                            float64\n",
            "uterine_contractions                                      float64\n",
            "light_decelerations                                       float64\n",
            "severe_decelerations                                      float64\n",
            "prolongued_decelerations                                  float64\n",
            "abnormal_short_term_variability                             int64\n",
            "mean_value_of_short_term_variability                      float64\n",
            "percentage_of_time_with_abnormal_long_term_variability      int64\n",
            "mean_value_of_long_term_variability                       float64\n",
            "histogram_width                                             int64\n",
            "histogram_min                                               int64\n",
            "histogram_max                                               int64\n",
            "histogram_number_of_peaks                                   int64\n",
            "histogram_number_of_zeroes                                  int64\n",
            "histogram_mode                                              int64\n",
            "histogram_mean                                              int64\n",
            "histogram_median                                            int64\n",
            "histogram_variance                                          int64\n",
            "histogram_tendency                                          int64\n",
            "fetal_health                                                int64\n",
            "dtype: object\n"
          ]
        }
      ],
      "source": [
        "print(fetal_df.axes)\n",
        "print(fetal_df.dtypes)\n"
      ]
    },
    {
      "cell_type": "markdown",
      "metadata": {
        "id": "_tMu1LVSz-hQ"
      },
      "source": [
        "#### (c)\n",
        "\n"
      ]
    },
    {
      "cell_type": "code",
      "execution_count": 5,
      "metadata": {
        "id": "1D7twXbHz-hR"
      },
      "outputs": [
        {
          "data": {
            "text/html": [
              "<div>\n",
              "<style scoped>\n",
              "    .dataframe tbody tr th:only-of-type {\n",
              "        vertical-align: middle;\n",
              "    }\n",
              "\n",
              "    .dataframe tbody tr th {\n",
              "        vertical-align: top;\n",
              "    }\n",
              "\n",
              "    .dataframe thead th {\n",
              "        text-align: right;\n",
              "    }\n",
              "</style>\n",
              "<table border=\"1\" class=\"dataframe\">\n",
              "  <thead>\n",
              "    <tr style=\"text-align: right;\">\n",
              "      <th></th>\n",
              "      <th>baseline value</th>\n",
              "      <th>accelerations</th>\n",
              "      <th>fetal_movement</th>\n",
              "      <th>uterine_contractions</th>\n",
              "      <th>light_decelerations</th>\n",
              "      <th>severe_decelerations</th>\n",
              "      <th>prolongued_decelerations</th>\n",
              "      <th>abnormal_short_term_variability</th>\n",
              "      <th>mean_value_of_short_term_variability</th>\n",
              "      <th>percentage_of_time_with_abnormal_long_term_variability</th>\n",
              "      <th>...</th>\n",
              "      <th>histogram_min</th>\n",
              "      <th>histogram_max</th>\n",
              "      <th>histogram_number_of_peaks</th>\n",
              "      <th>histogram_number_of_zeroes</th>\n",
              "      <th>histogram_mode</th>\n",
              "      <th>histogram_mean</th>\n",
              "      <th>histogram_median</th>\n",
              "      <th>histogram_variance</th>\n",
              "      <th>histogram_tendency</th>\n",
              "      <th>fetal_health</th>\n",
              "    </tr>\n",
              "  </thead>\n",
              "  <tbody>\n",
              "    <tr>\n",
              "      <th>0</th>\n",
              "      <td>120</td>\n",
              "      <td>0.000</td>\n",
              "      <td>0.0</td>\n",
              "      <td>0.000</td>\n",
              "      <td>0.000</td>\n",
              "      <td>0.0</td>\n",
              "      <td>0.000</td>\n",
              "      <td>73</td>\n",
              "      <td>0.5</td>\n",
              "      <td>43</td>\n",
              "      <td>...</td>\n",
              "      <td>62</td>\n",
              "      <td>126</td>\n",
              "      <td>2</td>\n",
              "      <td>0</td>\n",
              "      <td>120</td>\n",
              "      <td>137</td>\n",
              "      <td>121</td>\n",
              "      <td>73</td>\n",
              "      <td>1</td>\n",
              "      <td>2</td>\n",
              "    </tr>\n",
              "    <tr>\n",
              "      <th>1</th>\n",
              "      <td>132</td>\n",
              "      <td>0.006</td>\n",
              "      <td>0.0</td>\n",
              "      <td>0.006</td>\n",
              "      <td>0.003</td>\n",
              "      <td>0.0</td>\n",
              "      <td>0.000</td>\n",
              "      <td>17</td>\n",
              "      <td>2.1</td>\n",
              "      <td>0</td>\n",
              "      <td>...</td>\n",
              "      <td>68</td>\n",
              "      <td>198</td>\n",
              "      <td>6</td>\n",
              "      <td>1</td>\n",
              "      <td>141</td>\n",
              "      <td>136</td>\n",
              "      <td>140</td>\n",
              "      <td>12</td>\n",
              "      <td>0</td>\n",
              "      <td>1</td>\n",
              "    </tr>\n",
              "    <tr>\n",
              "      <th>2</th>\n",
              "      <td>133</td>\n",
              "      <td>0.003</td>\n",
              "      <td>0.0</td>\n",
              "      <td>0.008</td>\n",
              "      <td>0.003</td>\n",
              "      <td>0.0</td>\n",
              "      <td>0.000</td>\n",
              "      <td>16</td>\n",
              "      <td>2.1</td>\n",
              "      <td>0</td>\n",
              "      <td>...</td>\n",
              "      <td>68</td>\n",
              "      <td>198</td>\n",
              "      <td>5</td>\n",
              "      <td>1</td>\n",
              "      <td>141</td>\n",
              "      <td>135</td>\n",
              "      <td>138</td>\n",
              "      <td>13</td>\n",
              "      <td>0</td>\n",
              "      <td>1</td>\n",
              "    </tr>\n",
              "    <tr>\n",
              "      <th>3</th>\n",
              "      <td>134</td>\n",
              "      <td>0.003</td>\n",
              "      <td>0.0</td>\n",
              "      <td>0.008</td>\n",
              "      <td>0.003</td>\n",
              "      <td>0.0</td>\n",
              "      <td>0.000</td>\n",
              "      <td>16</td>\n",
              "      <td>2.4</td>\n",
              "      <td>0</td>\n",
              "      <td>...</td>\n",
              "      <td>53</td>\n",
              "      <td>170</td>\n",
              "      <td>11</td>\n",
              "      <td>0</td>\n",
              "      <td>137</td>\n",
              "      <td>134</td>\n",
              "      <td>137</td>\n",
              "      <td>13</td>\n",
              "      <td>1</td>\n",
              "      <td>1</td>\n",
              "    </tr>\n",
              "    <tr>\n",
              "      <th>4</th>\n",
              "      <td>132</td>\n",
              "      <td>0.007</td>\n",
              "      <td>0.0</td>\n",
              "      <td>0.008</td>\n",
              "      <td>0.000</td>\n",
              "      <td>0.0</td>\n",
              "      <td>0.000</td>\n",
              "      <td>16</td>\n",
              "      <td>2.4</td>\n",
              "      <td>0</td>\n",
              "      <td>...</td>\n",
              "      <td>53</td>\n",
              "      <td>170</td>\n",
              "      <td>9</td>\n",
              "      <td>0</td>\n",
              "      <td>137</td>\n",
              "      <td>136</td>\n",
              "      <td>138</td>\n",
              "      <td>11</td>\n",
              "      <td>1</td>\n",
              "      <td>1</td>\n",
              "    </tr>\n",
              "    <tr>\n",
              "      <th>5</th>\n",
              "      <td>134</td>\n",
              "      <td>0.001</td>\n",
              "      <td>0.0</td>\n",
              "      <td>0.010</td>\n",
              "      <td>0.009</td>\n",
              "      <td>0.0</td>\n",
              "      <td>0.002</td>\n",
              "      <td>26</td>\n",
              "      <td>5.9</td>\n",
              "      <td>0</td>\n",
              "      <td>...</td>\n",
              "      <td>50</td>\n",
              "      <td>200</td>\n",
              "      <td>5</td>\n",
              "      <td>3</td>\n",
              "      <td>76</td>\n",
              "      <td>107</td>\n",
              "      <td>107</td>\n",
              "      <td>170</td>\n",
              "      <td>0</td>\n",
              "      <td>3</td>\n",
              "    </tr>\n",
              "    <tr>\n",
              "      <th>6</th>\n",
              "      <td>134</td>\n",
              "      <td>0.001</td>\n",
              "      <td>0.0</td>\n",
              "      <td>0.013</td>\n",
              "      <td>0.008</td>\n",
              "      <td>0.0</td>\n",
              "      <td>0.003</td>\n",
              "      <td>29</td>\n",
              "      <td>6.3</td>\n",
              "      <td>0</td>\n",
              "      <td>...</td>\n",
              "      <td>50</td>\n",
              "      <td>200</td>\n",
              "      <td>6</td>\n",
              "      <td>3</td>\n",
              "      <td>71</td>\n",
              "      <td>107</td>\n",
              "      <td>106</td>\n",
              "      <td>215</td>\n",
              "      <td>0</td>\n",
              "      <td>3</td>\n",
              "    </tr>\n",
              "    <tr>\n",
              "      <th>7</th>\n",
              "      <td>122</td>\n",
              "      <td>0.000</td>\n",
              "      <td>0.0</td>\n",
              "      <td>0.000</td>\n",
              "      <td>0.000</td>\n",
              "      <td>0.0</td>\n",
              "      <td>0.000</td>\n",
              "      <td>83</td>\n",
              "      <td>0.5</td>\n",
              "      <td>6</td>\n",
              "      <td>...</td>\n",
              "      <td>62</td>\n",
              "      <td>130</td>\n",
              "      <td>0</td>\n",
              "      <td>0</td>\n",
              "      <td>122</td>\n",
              "      <td>122</td>\n",
              "      <td>123</td>\n",
              "      <td>3</td>\n",
              "      <td>1</td>\n",
              "      <td>3</td>\n",
              "    </tr>\n",
              "    <tr>\n",
              "      <th>8</th>\n",
              "      <td>122</td>\n",
              "      <td>0.000</td>\n",
              "      <td>0.0</td>\n",
              "      <td>0.002</td>\n",
              "      <td>0.000</td>\n",
              "      <td>0.0</td>\n",
              "      <td>0.000</td>\n",
              "      <td>84</td>\n",
              "      <td>0.5</td>\n",
              "      <td>5</td>\n",
              "      <td>...</td>\n",
              "      <td>62</td>\n",
              "      <td>130</td>\n",
              "      <td>0</td>\n",
              "      <td>0</td>\n",
              "      <td>122</td>\n",
              "      <td>122</td>\n",
              "      <td>123</td>\n",
              "      <td>3</td>\n",
              "      <td>1</td>\n",
              "      <td>3</td>\n",
              "    </tr>\n",
              "    <tr>\n",
              "      <th>9</th>\n",
              "      <td>122</td>\n",
              "      <td>0.000</td>\n",
              "      <td>0.0</td>\n",
              "      <td>0.003</td>\n",
              "      <td>0.000</td>\n",
              "      <td>0.0</td>\n",
              "      <td>0.000</td>\n",
              "      <td>86</td>\n",
              "      <td>0.3</td>\n",
              "      <td>6</td>\n",
              "      <td>...</td>\n",
              "      <td>62</td>\n",
              "      <td>130</td>\n",
              "      <td>1</td>\n",
              "      <td>0</td>\n",
              "      <td>122</td>\n",
              "      <td>122</td>\n",
              "      <td>123</td>\n",
              "      <td>1</td>\n",
              "      <td>1</td>\n",
              "      <td>3</td>\n",
              "    </tr>\n",
              "  </tbody>\n",
              "</table>\n",
              "<p>10 rows × 22 columns</p>\n",
              "</div>"
            ],
            "text/plain": [
              "   baseline value  accelerations  fetal_movement  uterine_contractions  \\\n",
              "0             120          0.000             0.0                 0.000   \n",
              "1             132          0.006             0.0                 0.006   \n",
              "2             133          0.003             0.0                 0.008   \n",
              "3             134          0.003             0.0                 0.008   \n",
              "4             132          0.007             0.0                 0.008   \n",
              "5             134          0.001             0.0                 0.010   \n",
              "6             134          0.001             0.0                 0.013   \n",
              "7             122          0.000             0.0                 0.000   \n",
              "8             122          0.000             0.0                 0.002   \n",
              "9             122          0.000             0.0                 0.003   \n",
              "\n",
              "   light_decelerations  severe_decelerations  prolongued_decelerations  \\\n",
              "0                0.000                   0.0                     0.000   \n",
              "1                0.003                   0.0                     0.000   \n",
              "2                0.003                   0.0                     0.000   \n",
              "3                0.003                   0.0                     0.000   \n",
              "4                0.000                   0.0                     0.000   \n",
              "5                0.009                   0.0                     0.002   \n",
              "6                0.008                   0.0                     0.003   \n",
              "7                0.000                   0.0                     0.000   \n",
              "8                0.000                   0.0                     0.000   \n",
              "9                0.000                   0.0                     0.000   \n",
              "\n",
              "   abnormal_short_term_variability  mean_value_of_short_term_variability  \\\n",
              "0                               73                                   0.5   \n",
              "1                               17                                   2.1   \n",
              "2                               16                                   2.1   \n",
              "3                               16                                   2.4   \n",
              "4                               16                                   2.4   \n",
              "5                               26                                   5.9   \n",
              "6                               29                                   6.3   \n",
              "7                               83                                   0.5   \n",
              "8                               84                                   0.5   \n",
              "9                               86                                   0.3   \n",
              "\n",
              "   percentage_of_time_with_abnormal_long_term_variability  ...  histogram_min  \\\n",
              "0                                                 43       ...             62   \n",
              "1                                                  0       ...             68   \n",
              "2                                                  0       ...             68   \n",
              "3                                                  0       ...             53   \n",
              "4                                                  0       ...             53   \n",
              "5                                                  0       ...             50   \n",
              "6                                                  0       ...             50   \n",
              "7                                                  6       ...             62   \n",
              "8                                                  5       ...             62   \n",
              "9                                                  6       ...             62   \n",
              "\n",
              "   histogram_max  histogram_number_of_peaks  histogram_number_of_zeroes  \\\n",
              "0            126                          2                           0   \n",
              "1            198                          6                           1   \n",
              "2            198                          5                           1   \n",
              "3            170                         11                           0   \n",
              "4            170                          9                           0   \n",
              "5            200                          5                           3   \n",
              "6            200                          6                           3   \n",
              "7            130                          0                           0   \n",
              "8            130                          0                           0   \n",
              "9            130                          1                           0   \n",
              "\n",
              "   histogram_mode  histogram_mean  histogram_median  histogram_variance  \\\n",
              "0             120             137               121                  73   \n",
              "1             141             136               140                  12   \n",
              "2             141             135               138                  13   \n",
              "3             137             134               137                  13   \n",
              "4             137             136               138                  11   \n",
              "5              76             107               107                 170   \n",
              "6              71             107               106                 215   \n",
              "7             122             122               123                   3   \n",
              "8             122             122               123                   3   \n",
              "9             122             122               123                   1   \n",
              "\n",
              "   histogram_tendency  fetal_health  \n",
              "0                   1             2  \n",
              "1                   0             1  \n",
              "2                   0             1  \n",
              "3                   1             1  \n",
              "4                   1             1  \n",
              "5                   0             3  \n",
              "6                   0             3  \n",
              "7                   1             3  \n",
              "8                   1             3  \n",
              "9                   1             3  \n",
              "\n",
              "[10 rows x 22 columns]"
            ]
          },
          "execution_count": 5,
          "metadata": {},
          "output_type": "execute_result"
        }
      ],
      "source": [
        "fetal_df.head(10)\n"
      ]
    },
    {
      "cell_type": "markdown",
      "metadata": {
        "id": "kUKa9J6dz-hR"
      },
      "source": [
        "#### (d)"
      ]
    },
    {
      "cell_type": "code",
      "execution_count": 6,
      "metadata": {
        "id": "2xNG_h3wz-hS"
      },
      "outputs": [
        {
          "name": "stdout",
          "output_type": "stream",
          "text": [
            "Number of rows: 2126\n",
            "Number of columns: 22\n"
          ]
        }
      ],
      "source": [
        "\n",
        "rows, columns = fetal_df.shape\n",
        "\n",
        "print(f\"Number of rows: {rows}\")\n",
        "print(f\"Number of columns: {columns}\")\n"
      ]
    },
    {
      "cell_type": "markdown",
      "metadata": {
        "id": "Jy00M5wcz-hS"
      },
      "source": [
        "#### (e)"
      ]
    },
    {
      "cell_type": "markdown",
      "metadata": {
        "id": "TfEQY5rUt2fd"
      },
      "source": [
        "it is termed as data samples or \"n\""
      ]
    },
    {
      "cell_type": "markdown",
      "metadata": {
        "id": "sv2CGUT8uFX3"
      },
      "source": [
        "#### (f)"
      ]
    },
    {
      "cell_type": "markdown",
      "metadata": {
        "id": "tKhYMGeDuLax"
      },
      "source": [
        "2126 Samples"
      ]
    },
    {
      "cell_type": "markdown",
      "metadata": {
        "id": "N0TPsxCauZJ6"
      },
      "source": [
        "#### (g)"
      ]
    },
    {
      "cell_type": "code",
      "execution_count": 7,
      "metadata": {},
      "outputs": [
        {
          "name": "stdout",
          "output_type": "stream",
          "text": [
            "Number of independent variables: 21\n",
            "Names of independent variables: ['baseline value', 'accelerations', 'fetal_movement', 'uterine_contractions', 'light_decelerations', 'severe_decelerations', 'prolongued_decelerations', 'abnormal_short_term_variability', 'mean_value_of_short_term_variability', 'percentage_of_time_with_abnormal_long_term_variability', 'mean_value_of_long_term_variability', 'histogram_width', 'histogram_min', 'histogram_max', 'histogram_number_of_peaks', 'histogram_number_of_zeroes', 'histogram_mode', 'histogram_mean', 'histogram_median', 'histogram_variance', 'histogram_tendency']\n"
          ]
        }
      ],
      "source": [
        "independent_variables = fetal_df.drop(columns=['fetal_health']).columns\n",
        "\n",
        "print(f\"Number of independent variables: {len(independent_variables)}\")\n",
        "print(\"Names of independent variables:\", list(independent_variables))"
      ]
    },
    {
      "cell_type": "markdown",
      "metadata": {
        "id": "hTwCZxwFuhZs"
      },
      "source": [
        "#### (h)"
      ]
    },
    {
      "cell_type": "markdown",
      "metadata": {
        "id": "URok105CuhHF"
      },
      "source": [
        "1 dependent variable: Fetal Health\n"
      ]
    },
    {
      "cell_type": "markdown",
      "metadata": {
        "id": "5XeG2MZFup3y"
      },
      "source": [
        "#### (i)"
      ]
    },
    {
      "cell_type": "markdown",
      "metadata": {
        "id": "5tt7ikfNupvv"
      },
      "source": [
        "n: 2126 \n",
        "p: 21"
      ]
    },
    {
      "cell_type": "markdown",
      "metadata": {
        "id": "BOeDxdYOupk-"
      },
      "source": [
        "#### (j)"
      ]
    },
    {
      "cell_type": "markdown",
      "metadata": {
        "id": "A1IqEbduupbQ"
      },
      "source": [
        "n: 2126\n",
        "m: 1"
      ]
    },
    {
      "cell_type": "markdown",
      "metadata": {
        "id": "gLVO6JSHupOE"
      },
      "source": [
        "#### (k)"
      ]
    },
    {
      "cell_type": "markdown",
      "metadata": {
        "id": "AHbPBjDsuo6j"
      },
      "source": [
        "I don't think all the variables are raw. For example Histogram features, mean, variance could be all derived from a single output."
      ]
    },
    {
      "cell_type": "markdown",
      "metadata": {
        "id": "ps849tTTu74M"
      },
      "source": [
        "#### (l)"
      ]
    },
    {
      "cell_type": "code",
      "execution_count": 8,
      "metadata": {},
      "outputs": [
        {
          "name": "stdout",
          "output_type": "stream",
          "text": [
            "Column: accelerations, Unique Values: [0.    0.006 0.003 0.007 0.001 0.005 0.009 0.002 0.008 0.004 0.01  0.015\n",
            " 0.013 0.014 0.011 0.017 0.012 0.016 0.019 0.018]\n",
            "Column: uterine_contractions, Unique Values: [0.    0.006 0.008 0.01  0.013 0.002 0.003 0.001 0.004 0.005 0.007 0.009\n",
            " 0.012 0.011 0.015 0.014]\n",
            "Column: light_decelerations, Unique Values: [0.    0.003 0.009 0.008 0.001 0.002 0.005 0.004 0.012 0.01  0.014 0.006\n",
            " 0.007 0.015 0.011 0.013]\n",
            "Column: severe_decelerations, Unique Values: [0.    0.001]\n",
            "Column: prolongued_decelerations, Unique Values: [0.    0.002 0.003 0.001 0.004 0.005]\n",
            "Column: histogram_number_of_peaks, Unique Values: [ 2  6  5 11  9  0  1  7  3 13 10  8  4 12 14 15 16 18]\n",
            "Column: histogram_number_of_zeroes, Unique Values: [ 0  1  3  2  4 10  5  8  7]\n",
            "Column: histogram_tendency, Unique Values: [ 1  0 -1]\n",
            "Column: fetal_health, Unique Values: [2 1 3]\n",
            "\n",
            "Potential categorical variables based on unique values: ['accelerations', 'uterine_contractions', 'light_decelerations', 'severe_decelerations', 'prolongued_decelerations', 'histogram_number_of_peaks', 'histogram_number_of_zeroes', 'histogram_tendency', 'fetal_health']\n"
          ]
        },
        {
          "data": {
            "text/plain": [
              "array([[<Axes: title={'center': 'baseline value'}>,\n",
              "        <Axes: title={'center': 'accelerations'}>,\n",
              "        <Axes: title={'center': 'fetal_movement'}>,\n",
              "        <Axes: title={'center': 'uterine_contractions'}>,\n",
              "        <Axes: title={'center': 'light_decelerations'}>],\n",
              "       [<Axes: title={'center': 'severe_decelerations'}>,\n",
              "        <Axes: title={'center': 'prolongued_decelerations'}>,\n",
              "        <Axes: title={'center': 'abnormal_short_term_variability'}>,\n",
              "        <Axes: title={'center': 'mean_value_of_short_term_variability'}>,\n",
              "        <Axes: title={'center': 'percentage_of_time_with_abnormal_long_term_variability'}>],\n",
              "       [<Axes: title={'center': 'mean_value_of_long_term_variability'}>,\n",
              "        <Axes: title={'center': 'histogram_width'}>,\n",
              "        <Axes: title={'center': 'histogram_min'}>,\n",
              "        <Axes: title={'center': 'histogram_max'}>,\n",
              "        <Axes: title={'center': 'histogram_number_of_peaks'}>],\n",
              "       [<Axes: title={'center': 'histogram_number_of_zeroes'}>,\n",
              "        <Axes: title={'center': 'histogram_mode'}>,\n",
              "        <Axes: title={'center': 'histogram_mean'}>,\n",
              "        <Axes: title={'center': 'histogram_median'}>,\n",
              "        <Axes: title={'center': 'histogram_variance'}>],\n",
              "       [<Axes: title={'center': 'histogram_tendency'}>,\n",
              "        <Axes: title={'center': 'fetal_health'}>, <Axes: >, <Axes: >,\n",
              "        <Axes: >]], dtype=object)"
            ]
          },
          "execution_count": 8,
          "metadata": {},
          "output_type": "execute_result"
        },
        {
          "data": {
            "image/png": "[encoded data removed]",
            "text/plain": [
              "<Figure size 1500x1500 with 25 Axes>"
            ]
          },
          "metadata": {},
          "output_type": "display_data"
        }
      ],
      "source": [
        "categorical_variables = []\n",
        "\n",
        "for column in fetal_df.columns:\n",
        "    unique_values = fetal_df[column].unique()\n",
        "    num_unique_values = len(unique_values)\n",
        "    \n",
        "   \n",
        "    if num_unique_values < 22:\n",
        "        categorical_variables.append(column)\n",
        "        print(f\"Column: {column}, Unique Values: {unique_values}\")\n",
        "\n",
        "\n",
        "print(f\"\\nPotential categorical variables based on unique values: {categorical_variables}\")\n",
        "\n",
        "\n",
        "fetal_df.hist(figsize=(15, 15), bins=20)  \n",
        "\n"
      ]
    },
    {
      "cell_type": "markdown",
      "metadata": {
        "id": "240_-4A5u8oB"
      },
      "source": [
        "Based on histogram we can see that ['accelerations', 'uterine_contractions', 'light_decelerations', 'severe_decelerations', 'prolongued_decelerations', 'histogram_number_of_peaks', 'histogram_number_of_zeroes', 'histogram_tendency', 'fetal_health'] are 9 varaibles where there are less than 22 unique values. I belive a variable can be labeled categorical if its unique values are 1% of total data samples."
      ]
    },
    {
      "cell_type": "markdown",
      "metadata": {
        "id": "avTEhBQLvMtw"
      },
      "source": [
        "#### (m)"
      ]
    },
    {
      "cell_type": "markdown",
      "metadata": {
        "id": "r1psH--XvMV8"
      },
      "source": [
        "Label Encoding"
      ]
    },
    {
      "cell_type": "markdown",
      "metadata": {
        "id": "qVW9ov3kvMRj"
      },
      "source": [
        "#### (n)"
      ]
    },
    {
      "cell_type": "code",
      "execution_count": 9,
      "metadata": {
        "id": "zV2P8n4pvUQT"
      },
      "outputs": [
        {
          "name": "stdout",
          "output_type": "stream",
          "text": [
            "Health condition counts:\n",
            "Normal: 1655\n",
            "Suspect: 295\n",
            "Pathological: 176\n"
          ]
        }
      ],
      "source": [
        "\n",
        "health_condition_counts = fetal_df['fetal_health'].value_counts()\n",
        "\n",
        "\n",
        "print(\"Health condition counts:\")\n",
        "print(f\"Normal: {health_condition_counts[1]}\")\n",
        "print(f\"Suspect: {health_condition_counts[2]}\")\n",
        "print(f\"Pathological: {health_condition_counts[3]}\")\n"
      ]
    },
    {
      "cell_type": "markdown",
      "metadata": {
        "id": "z8lTzSQFwqI1"
      },
      "source": [
        "## **Dirty Dataset**"
      ]
    },
    {
      "cell_type": "code",
      "execution_count": 10,
      "metadata": {
        "id": "hAMx9uwbw8rV"
      },
      "outputs": [],
      "source": [
        "\n",
        "\n",
        "fetal_dirty_df = pd.read_csv('fetal_health_dataset_dirty.csv')"
      ]
    },
    {
      "cell_type": "markdown",
      "metadata": {
        "id": "nOJPywDYz-hT"
      },
      "source": [
        "### Problem 1.2"
      ]
    },
    {
      "cell_type": "markdown",
      "metadata": {
        "id": "UTf6Yiqjz-hT"
      },
      "source": [
        "#### (a)"
      ]
    },
    {
      "cell_type": "code",
      "execution_count": 11,
      "metadata": {
        "id": "qOPVMIawz-hU"
      },
      "outputs": [
        {
          "name": "stdout",
          "output_type": "stream",
          "text": [
            "Missing values in each column:\n",
            "baseline value                                            47\n",
            "accelerations                                              0\n",
            "fetal_movement                                             0\n",
            "uterine_contractions                                       0\n",
            "light_decelerations                                        0\n",
            "severe_decelerations                                       0\n",
            "prolongued_decelerations                                   0\n",
            "abnormal_short_term_variability                            0\n",
            "mean_value_of_short_term_variability                       0\n",
            "percentage_of_time_with_abnormal_long_term_variability    10\n",
            "mean_value_of_long_term_variability                        0\n",
            "histogram_width                                            0\n",
            "histogram_min                                              0\n",
            "histogram_max                                             24\n",
            "histogram_number_of_peaks                                  0\n",
            "histogram_number_of_zeroes                                 0\n",
            "histogram_mode                                             5\n",
            "histogram_mean                                             0\n",
            "histogram_median                                           0\n",
            "histogram_variance                                         0\n",
            "histogram_tendency                                         0\n",
            "fetal_health                                               0\n",
            "dtype: int64\n"
          ]
        }
      ],
      "source": [
        "missing_values = fetal_dirty_df.isna().sum()\n",
        "\n",
        "\n",
        "print(\"Missing values in each column:\")\n",
        "print(missing_values)"
      ]
    },
    {
      "cell_type": "markdown",
      "metadata": {
        "id": "CrZQxH5hz-hU"
      },
      "source": [
        "#### (b)"
      ]
    },
    {
      "cell_type": "code",
      "execution_count": 12,
      "metadata": {
        "id": "ESSjRnLCz-hU"
      },
      "outputs": [
        {
          "name": "stdout",
          "output_type": "stream",
          "text": [
            "Variables with missing values: ['baseline value', 'percentage_of_time_with_abnormal_long_term_variability', 'histogram_max', 'histogram_mode']\n"
          ]
        }
      ],
      "source": [
        "\n",
        "missing_values_per_column = fetal_dirty_df.isna().sum()\n",
        "\n",
        "columns_with_missing_values = missing_values_per_column[missing_values_per_column > 0].index.tolist()\n",
        "\n",
        "if columns_with_missing_values:\n",
        "    print(\"Variables with missing values:\", columns_with_missing_values)\n",
        "else:\n",
        "    print(\"No variables with missing values.\")\n"
      ]
    },
    {
      "cell_type": "markdown",
      "metadata": {
        "id": "hWh95Fiyz-hU"
      },
      "source": [
        "#### (c)"
      ]
    },
    {
      "cell_type": "code",
      "execution_count": 13,
      "metadata": {
        "id": "VZ9EtxC-z-hV"
      },
      "outputs": [
        {
          "name": "stdout",
          "output_type": "stream",
          "text": [
            "Number of samples with missing values: 86\n"
          ]
        }
      ],
      "source": [
        "\n",
        "rows_with_missing_values = fetal_dirty_df.isna().any(axis=1)\n",
        "num_samples_with_missing_values = rows_with_missing_values.sum()\n",
        "\n",
        "\n",
        "print(f\"Number of samples with missing values: {num_samples_with_missing_values}\")\n"
      ]
    },
    {
      "cell_type": "markdown",
      "metadata": {
        "id": "OYDjQvfFxnQw"
      },
      "source": [
        "### Problem 1.3"
      ]
    },
    {
      "cell_type": "code",
      "execution_count": 14,
      "metadata": {
        "id": "5YCLwVJuxrXG"
      },
      "outputs": [
        {
          "name": "stdout",
          "output_type": "stream",
          "text": [
            "Replacing 11 values below 95.4 in column 'baseline value' due to large deviations.\n",
            "Replacing 177 invalid values in column 'fetal_health' with NaN.\n",
            "     baseline value  accelerations  fetal_movement  uterine_contractions  \\\n",
            "91            148.0          0.000           0.000                 0.000   \n",
            "92            148.0          0.000           0.003                 0.000   \n",
            "93              NaN          0.000           0.000                 0.000   \n",
            "94            148.0          0.000           0.005                 0.002   \n",
            "95            148.0          0.000           0.000                 0.000   \n",
            "96            148.0          0.000           0.000                 0.000   \n",
            "97            148.0          0.000           0.001                 0.000   \n",
            "98            148.0          0.000           0.001                 0.000   \n",
            "99            125.0          0.010           0.007                 0.002   \n",
            "100           125.0          0.005           0.000                 0.002   \n",
            "\n",
            "     light_decelerations  severe_decelerations  prolongued_decelerations  \\\n",
            "91                 0.000                   0.0                       0.0   \n",
            "92                 0.000                   0.0                       0.0   \n",
            "93                 0.000                   0.0                       0.0   \n",
            "94                 0.000                   0.0                       0.0   \n",
            "95                 0.000                   0.0                       0.0   \n",
            "96                 0.000                   0.0                       0.0   \n",
            "97                 0.001                   0.0                       0.0   \n",
            "98                 0.001                   0.0                       0.0   \n",
            "99                 0.000                   0.0                       0.0   \n",
            "100                0.003                   0.0                       0.0   \n",
            "\n",
            "     abnormal_short_term_variability  mean_value_of_short_term_variability  \\\n",
            "91                                67                                   0.4   \n",
            "92                                70                                   0.3   \n",
            "93                                68                                   0.3   \n",
            "94                                72                                   0.3   \n",
            "95                                58                                   0.5   \n",
            "96                                63                                   0.4   \n",
            "97                                60                                   0.5   \n",
            "98                                61                                   0.5   \n",
            "99                                19                                   1.9   \n",
            "100                               25                                   1.7   \n",
            "\n",
            "     percentage_of_time_with_abnormal_long_term_variability  ...  \\\n",
            "91                                                67.0       ...   \n",
            "92                                                68.0       ...   \n",
            "93                                                75.0       ...   \n",
            "94                                                74.0       ...   \n",
            "95                                                 7.0       ...   \n",
            "96                                                30.0       ...   \n",
            "97                                                49.0       ...   \n",
            "98                                                39.0       ...   \n",
            "99                                                 0.0       ...   \n",
            "100                                                6.0       ...   \n",
            "\n",
            "     histogram_min  histogram_max  histogram_number_of_peaks  \\\n",
            "91             139          154.0                          4   \n",
            "92             136          153.0                          2   \n",
            "93             128            NaN                          3   \n",
            "94             136          152.0                          0   \n",
            "95             135          156.0                          1   \n",
            "96             121          156.0                          3   \n",
            "97              78          161.0                          3   \n",
            "98             130          161.0                          2   \n",
            "99             101          197.0                          8   \n",
            "100             72          165.0                          3   \n",
            "\n",
            "     histogram_number_of_zeroes  histogram_mode  histogram_mean  \\\n",
            "91                            0           150.0             149   \n",
            "92                            0           150.0             148   \n",
            "93                            0           150.0             149   \n",
            "94                            0           150.0             148   \n",
            "95                            0           150.0             149   \n",
            "96                            1           150.0             149   \n",
            "97                            0           154.0             152   \n",
            "98                            0           154.0             152   \n",
            "99                            1           133.0             131   \n",
            "100                           0           133.0             128   \n",
            "\n",
            "     histogram_median  histogram_variance  histogram_tendency  fetal_health  \n",
            "91                151                   0                   1           2.0  \n",
            "92                150                   0                   1           2.0  \n",
            "93                151                   0                   1           NaN  \n",
            "94                150                   0                   1           NaN  \n",
            "95                151                   1                   1           1.0  \n",
            "96                151                   1                   1           2.0  \n",
            "97                154                   1                   1           2.0  \n",
            "98                154                   1                   1           2.0  \n",
            "99                133                   5                  -1           1.0  \n",
            "100               132                  10                   0           1.0  \n",
            "\n",
            "[10 rows x 22 columns]\n"
          ]
        }
      ],
      "source": [
        "\n",
        "\n",
        "# Real-life optimal ranges for each variable\n",
        "optimal_values = {\n",
        "    'baseline value': {'min': 106, 'max': 160},\n",
        "    'accelerations': {'min': 0.0, 'max': 0.019},\n",
        "    'fetal_movement': {'min': 0.0, 'max': 0.481},\n",
        "    'uterine_contractions': {'min': 0.0, 'max': 0.015},\n",
        "    'light_decelerations': {'min': 0.0, 'max': 0.015},\n",
        "    'severe_decelerations': {'min': 0.0, 'max': 0.001},\n",
        "    'prolongued_decelerations': {'min': 0.0, 'max': 0.005},\n",
        "    'abnormal_short_term_variability': {'min': 12, 'max': 87},\n",
        "    'mean_value_of_short_term_variability': {'min': 0.2, 'max': 7},\n",
        "    'percentage_of_time_with_abnormal_long_term_variability': {'min': 0, 'max': 91},\n",
        "    'mean_value_of_long_term_variability': {'min': 0.0, 'max': 50.7},\n",
        "    'histogram_width': {'min': 3, 'max': 180},\n",
        "    'histogram_min': {'min': 50, 'max': 159},\n",
        "    'histogram_max': {'min': 122, 'max': 238},\n",
        "    'histogram_number_of_peaks': {'min': 0, 'max': 18},\n",
        "    'histogram_number_of_zeroes': {'min': 0, 'max': 10},\n",
        "    'histogram_mode': {'min': 60, 'max': 187},\n",
        "    'histogram_mean': {'min': 73, 'max': 182},\n",
        "    'histogram_median': {'min': 77, 'max': 186},\n",
        "    'histogram_variance': {'min': 0, 'max': 269},\n",
        "    'histogram_tendency': {'min': -1, 'max': 1},\n",
        "    'fetal_health': {'min': 0, 'max': 2}  \n",
        "}\n",
        "\n",
        "\n",
        "for column in fetal_dirty_df.columns:\n",
        "    \n",
        "    \n",
        "    if pd.api.types.is_numeric_dtype(fetal_dirty_df[column]) and column in optimal_values:\n",
        "        \n",
        "        \n",
        "        if column == 'fetal_health':\n",
        "           \n",
        "            invalid_rows = fetal_dirty_df[~fetal_dirty_df[column].isin([0, 1, 2])]\n",
        "            rows_invalid_count = invalid_rows.shape[0]  # Count number of invalid rows\n",
        "            \n",
        "            if rows_invalid_count > 0:\n",
        "                print(f\"Replacing {rows_invalid_count} invalid values in column 'fetal_health' with NaN.\")\n",
        "                \n",
        "                fetal_dirty_df.loc[~fetal_dirty_df[column].isin([0, 1, 2]), column] = np.nan\n",
        "            else:\n",
        "                print(f\"No invalid values found in 'fetal_health'.\")\n",
        "        \n",
        "        else:\n",
        "            \n",
        "            optimal_min = optimal_values[column]['min']\n",
        "            optimal_max = optimal_values[column]['max']\n",
        "            \n",
        "            \n",
        "            min_threshold = optimal_min - (0.1 * abs(optimal_min))\n",
        "            max_threshold = optimal_max + (0.1 * abs(optimal_max))\n",
        "            \n",
        "           \n",
        "            rows_below_min = (fetal_dirty_df[column] < min_threshold).sum()\n",
        "            rows_above_max = (fetal_dirty_df[column] > max_threshold).sum()\n",
        "            \n",
        "            \n",
        "            if rows_below_min > 0:\n",
        "                print(f\"Replacing {rows_below_min} values below {min_threshold} in column '{column}' due to large deviations.\")\n",
        "                fetal_dirty_df.loc[fetal_dirty_df[column] < min_threshold, column] = np.nan\n",
        "            \n",
        "            if rows_above_max > 0:\n",
        "                print(f\"Replacing {rows_above_max} values above {max_threshold} in column '{column}' due to large deviations.\")\n",
        "                fetal_dirty_df.loc[fetal_dirty_df[column] > max_threshold, column] = np.nan\n",
        "\n",
        "\n",
        "\n",
        "\n",
        "\n",
        "\n",
        "\n",
        "print(fetal_dirty_df.loc[91:100])\n"
      ]
    },
    {
      "cell_type": "markdown",
      "metadata": {
        "id": "zpP3WEH6xw9b"
      },
      "source": [
        "My code checks all values are within an optimal range (researched to find the range) and they are acceptable with a 10% deviation."
      ]
    },
    {
      "cell_type": "markdown",
      "metadata": {
        "id": "OqxjckzSz-hV"
      },
      "source": [
        "### Problem 1.4"
      ]
    },
    {
      "cell_type": "code",
      "execution_count": 15,
      "metadata": {
        "id": "IPw21Smex-cV"
      },
      "outputs": [
        {
          "name": "stdout",
          "output_type": "stream",
          "text": [
            "    baseline value  accelerations  fetal_movement  uterine_contractions  \\\n",
            "0        -1.350760          0.000       -0.203162                 0.000   \n",
            "1        -0.131036          0.006       -0.203162                 0.006   \n",
            "2        -0.029392          0.003       -0.203162                 0.008   \n",
            "3         0.072252          0.003       -0.203162                 0.008   \n",
            "4        -0.131036          0.007       -0.203162                 0.008   \n",
            "5         0.072252          0.001       -0.203162                 0.010   \n",
            "6         0.072252          0.001       -0.203162                 0.013   \n",
            "7        -1.147472          0.000       -0.203162                 0.000   \n",
            "8        -1.147472          0.000       -0.203162                 0.002   \n",
            "9        -1.147472          0.000       -0.203162                 0.003   \n",
            "10        1.800194          0.000       -0.203162                 0.001   \n",
            "11        1.698550          0.000       -0.203162                 0.001   \n",
            "12       -0.232679          0.005        1.339723                 0.008   \n",
            "13       -0.232679          0.009        4.554065                 0.006   \n",
            "14       -0.334323          0.006        8.539849                 0.004   \n",
            "15       -0.334323          0.006        7.939839                 0.004   \n",
            "16       -0.334323          0.006        9.247005                 0.005   \n",
            "17       -0.232679          0.002        8.004126                 0.003   \n",
            "18       -0.334323          0.003        9.461294                 0.006   \n",
            "19       -0.334323          0.005        9.847015                 0.005   \n",
            "\n",
            "    light_decelerations  severe_decelerations  prolongued_decelerations  \\\n",
            "0                 0.000                   0.0                     0.000   \n",
            "1                 0.003                   0.0                     0.000   \n",
            "2                 0.003                   0.0                     0.000   \n",
            "3                 0.003                   0.0                     0.000   \n",
            "4                 0.000                   0.0                     0.000   \n",
            "5                 0.009                   0.0                     0.002   \n",
            "6                 0.008                   0.0                     0.003   \n",
            "7                 0.000                   0.0                     0.000   \n",
            "8                 0.000                   0.0                     0.000   \n",
            "9                 0.000                   0.0                     0.000   \n",
            "10                0.001                   0.0                     0.000   \n",
            "11                0.001                   0.0                     0.000   \n",
            "12                0.003                   0.0                     0.000   \n",
            "13                0.002                   0.0                     0.000   \n",
            "14                0.005                   0.0                     0.001   \n",
            "15                0.004                   0.0                     0.001   \n",
            "16                0.005                   0.0                     0.000   \n",
            "17                0.005                   0.0                     0.002   \n",
            "18                0.004                   0.0                     0.001   \n",
            "19                0.004                   0.0                     0.001   \n",
            "\n",
            "    abnormal_short_term_variability  mean_value_of_short_term_variability  \\\n",
            "0                          1.512834                             -0.942873   \n",
            "1                         -1.744341                              0.868636   \n",
            "2                         -1.802504                              0.868636   \n",
            "3                         -1.802504                              1.208294   \n",
            "4                         -1.802504                              1.208294   \n",
            "5                         -1.220866                              5.170971   \n",
            "6                         -1.046375                              5.623848   \n",
            "7                          2.094473                             -0.942873   \n",
            "8                          2.152636                             -0.942873   \n",
            "9                          2.268964                             -1.169312   \n",
            "10                         0.989360                              0.642198   \n",
            "11                         0.989360                              0.755417   \n",
            "12                        -1.104538                              0.076101   \n",
            "13                        -1.104538                              0.189320   \n",
            "14                        -1.511685                              1.095075   \n",
            "15                        -1.628013                              1.095075   \n",
            "16                        -1.337194                              0.868636   \n",
            "17                        -1.686177                              1.208294   \n",
            "18                        -1.395358                              0.642198   \n",
            "19                        -1.046375                              0.415759   \n",
            "\n",
            "    percentage_of_time_with_abnormal_long_term_variability  ...  \\\n",
            "0                                            1.808583       ...   \n",
            "1                                           -0.532666       ...   \n",
            "2                                           -0.532666       ...   \n",
            "3                                           -0.532666       ...   \n",
            "4                                           -0.532666       ...   \n",
            "5                                           -0.532666       ...   \n",
            "6                                           -0.532666       ...   \n",
            "7                                           -0.205980       ...   \n",
            "8                                           -0.260427       ...   \n",
            "9                                           -0.205980       ...   \n",
            "10                                          -0.042637       ...   \n",
            "11                                          -0.097085       ...   \n",
            "12                                          -0.532666       ...   \n",
            "13                                          -0.532666       ...   \n",
            "14                                          -0.532666       ...   \n",
            "15                                          -0.532666       ...   \n",
            "16                                          -0.532666       ...   \n",
            "17                                          -0.532666       ...   \n",
            "18                                          -0.532666       ...   \n",
            "19                                          -0.532666       ...   \n",
            "\n",
            "    histogram_min  histogram_max  histogram_number_of_peaks  \\\n",
            "0       -1.068311      -2.126422                          2   \n",
            "1       -0.865335       1.890418                          6   \n",
            "2       -0.865335       1.890418                          5   \n",
            "3       -1.372774       0.328314                         11   \n",
            "4       -1.372774       0.328314                          9   \n",
            "5       -1.474262       2.001997                          5   \n",
            "6       -1.474262       2.001997                          6   \n",
            "7       -1.068311      -1.903264                          0   \n",
            "8       -1.068311      -1.903264                          0   \n",
            "9       -1.068311      -1.903264                          1   \n",
            "10      -1.271286       1.220945                          2   \n",
            "11      -1.271286       1.220945                          5   \n",
            "12      -0.188750      -0.564317                          5   \n",
            "13      -0.763847      -0.341160                          2   \n",
            "14      -0.899164       0.551472                          7   \n",
            "15      -0.899164       0.551472                          3   \n",
            "16      -1.372774       0.774629                          5   \n",
            "17      -0.899164       0.551472                          5   \n",
            "18      -1.169799      -0.341160                          6   \n",
            "19      -0.966823       0.718840                          6   \n",
            "\n",
            "    histogram_number_of_zeroes  histogram_mode  histogram_mean  \\\n",
            "0                            0       -1.064163        0.153234   \n",
            "1                            1        0.216611        0.089105   \n",
            "2                            1        0.216611        0.024976   \n",
            "3                            0       -0.027346       -0.039153   \n",
            "4                            0       -0.027346        0.089105   \n",
            "5                            3       -3.747689       -1.770633   \n",
            "6                            3       -4.052635       -1.770633   \n",
            "7                            0       -0.942184       -0.808700   \n",
            "8                            0       -0.942184       -0.808700   \n",
            "9                            0       -0.942184       -0.808700   \n",
            "10                           0        0.765514        0.858651   \n",
            "11                           0        0.765514        0.858651   \n",
            "12                           0       -0.149324       -0.039153   \n",
            "13                           0        0.216611        0.153234   \n",
            "14                           0        0.338589       -0.616313   \n",
            "15                           0       -0.210314       -0.488055   \n",
            "16                           0        0.338589       -0.423926   \n",
            "17                           0       -0.210314       -0.616313   \n",
            "18                           0       -0.271303       -0.680442   \n",
            "19                           1       -0.271303       -0.359797   \n",
            "\n",
            "    histogram_median  histogram_variance  histogram_tendency  fetal_health  \n",
            "0          -1.181364            1.870129                   1           2.0  \n",
            "1           0.132007           -0.234943                   0           1.0  \n",
            "2          -0.006243           -0.200434                   0           1.0  \n",
            "3          -0.075367           -0.200434                   1           1.0  \n",
            "4          -0.006243           -0.269452                   1           1.0  \n",
            "5          -2.149111            5.217538                   0           NaN  \n",
            "6          -2.218236            6.770459                   0           NaN  \n",
            "7          -1.043115           -0.545527                   1           NaN  \n",
            "8          -1.043115           -0.545527                   1           NaN  \n",
            "9          -1.043115           -0.614546                   1           NaN  \n",
            "10          0.892380           -0.338471                   1           2.0  \n",
            "11          0.892380           -0.303962                   1           2.0  \n",
            "12         -0.075367           -0.407490                   1           1.0  \n",
            "13          0.201132           -0.303962                   1           1.0  \n",
            "14         -0.213617            1.973657                   0           1.0  \n",
            "15         -0.351867            0.834848                   0           1.0  \n",
            "16         -0.006243            1.766601                   1           1.0  \n",
            "17         -0.420991            0.903866                   0           2.0  \n",
            "18         -0.628366            0.593282                   1           1.0  \n",
            "19         -0.351867            0.282698                   0           1.0  \n",
            "\n",
            "[20 rows x 22 columns]\n"
          ]
        }
      ],
      "source": [
        "\n",
        "numeric_columns = fetal_dirty_df.select_dtypes(include=['float64', 'int64']).columns.difference(categorical_variables)\n",
        "\n",
        "\n",
        "for column in numeric_columns:\n",
        "    mean = fetal_dirty_df[column].mean(skipna=True)  \n",
        "    std = fetal_dirty_df[column].std(skipna=True)    \n",
        "    \n",
        "    \n",
        "    fetal_dirty_df[column] = (fetal_dirty_df[column] - mean) / std\n",
        "\n",
        "\n",
        "print(fetal_dirty_df.head(20))"
      ]
    },
    {
      "cell_type": "markdown",
      "metadata": {
        "id": "bgxDFuA3z-hW"
      },
      "source": [
        "### Problem 1.5"
      ]
    },
    {
      "cell_type": "code",
      "execution_count": 16,
      "metadata": {
        "id": "-0v14ybDz-hW"
      },
      "outputs": [],
      "source": [
        "def fill_nan_with_median(group):\n",
        "    for col in group.columns:\n",
        "        if col != 'fetal_health':  \n",
        "            group[col] = group[col].fillna(group[col].median())\n",
        "    return group\n",
        "\n",
        "\n",
        "fetal_dirty_df = fetal_dirty_df.groupby('fetal_health', group_keys=False).apply(fill_nan_with_median)\n"
      ]
    },
    {
      "cell_type": "markdown",
      "metadata": {
        "id": "RRrpdSTJyGt1"
      },
      "source": [
        "### Problem 1.6"
      ]
    },
    {
      "cell_type": "code",
      "execution_count": 17,
      "metadata": {
        "id": "Ctwd0h7XyG8k"
      },
      "outputs": [
        {
          "name": "stdout",
          "output_type": "stream",
          "text": [
            "The pre-processed dataset has been saved as 'fetal_health_dataset_processed.csv'.\n"
          ]
        }
      ],
      "source": [
        "fetal_health_encoded_df = pd.get_dummies(fetal_dirty_df, columns=['fetal_health'], prefix='health')\n",
        "\n",
        "fetal_health_columns = fetal_health_encoded_df.filter(like='health_').columns\n",
        "\n",
        "\n",
        "fetal_health_encoded_df[fetal_health_columns] = fetal_health_encoded_df[fetal_health_columns].astype(int)\n",
        "\n",
        "fetal_health_encoded_df.to_csv('fetal_health_dataset_processed.csv', index=False)\n",
        "\n",
        "print(\"The pre-processed dataset has been saved as 'fetal_health_dataset_processed.csv'.\")"
      ]
    },
    {
      "cell_type": "markdown",
      "metadata": {
        "id": "E8hZzOSvymHL"
      },
      "source": [
        "# **2. Heart Failure Prediction Dataset**"
      ]
    },
    {
      "cell_type": "markdown",
      "metadata": {
        "id": "5YpfhDVMymHM"
      },
      "source": [
        "## Problem 2.1"
      ]
    },
    {
      "cell_type": "code",
      "execution_count": 18,
      "metadata": {
        "id": "xD1GcvD4ymHM"
      },
      "outputs": [],
      "source": [
        "# load the dataset csv file into a pandas dataframe\n",
        "\n",
        "heart_df = pd.read_csv('heart_failure_dataset.csv') "
      ]
    },
    {
      "cell_type": "markdown",
      "metadata": {
        "id": "1EQWwLbvymHN"
      },
      "source": [
        "### (a)"
      ]
    },
    {
      "cell_type": "markdown",
      "metadata": {
        "id": "6GkRt8w6ymHN"
      },
      "source": [
        "This is a supervised learning task as the Death Event is provided as a binary value."
      ]
    },
    {
      "cell_type": "markdown",
      "metadata": {
        "id": "T5HoKdioymHN"
      },
      "source": [
        "### (b)"
      ]
    },
    {
      "cell_type": "code",
      "execution_count": 19,
      "metadata": {
        "id": "xUGIEmzYymHN"
      },
      "outputs": [
        {
          "name": "stdout",
          "output_type": "stream",
          "text": [
            "Axes of the DataFrame:\n",
            "[RangeIndex(start=0, stop=299, step=1), Index(['age', 'anaemia', 'creatinine_phosphokinase', 'diabetes',\n",
            "       'ejection_fraction', 'high_blood_pressure', 'platelets',\n",
            "       'serum_creatinine', 'serum_sodium', 'sex', 'smoking', 'time',\n",
            "       'DEATH_EVENT'],\n",
            "      dtype='object')]\n",
            "\n",
            "Data types of each column in the DataFrame:\n",
            "age                         float64\n",
            "anaemia                       int64\n",
            "creatinine_phosphokinase      int64\n",
            "diabetes                      int64\n",
            "ejection_fraction             int64\n",
            "high_blood_pressure           int64\n",
            "platelets                   float64\n",
            "serum_creatinine            float64\n",
            "serum_sodium                  int64\n",
            "sex                           int64\n",
            "smoking                       int64\n",
            "time                          int64\n",
            "DEATH_EVENT                   int64\n",
            "dtype: object\n"
          ]
        }
      ],
      "source": [
        "print(\"Axes of the DataFrame:\")\n",
        "print(heart_df.axes)\n",
        "\n",
        "print(\"\\nData types of each column in the DataFrame:\")\n",
        "print(heart_df.dtypes)"
      ]
    },
    {
      "cell_type": "markdown",
      "metadata": {
        "id": "TGHAoXfMymHO"
      },
      "source": [
        "### (c)\n",
        "\n"
      ]
    },
    {
      "cell_type": "code",
      "execution_count": 20,
      "metadata": {
        "id": "ItDMYWoFymHO"
      },
      "outputs": [
        {
          "data": {
            "text/html": [
              "<div>\n",
              "<style scoped>\n",
              "    .dataframe tbody tr th:only-of-type {\n",
              "        vertical-align: middle;\n",
              "    }\n",
              "\n",
              "    .dataframe tbody tr th {\n",
              "        vertical-align: top;\n",
              "    }\n",
              "\n",
              "    .dataframe thead th {\n",
              "        text-align: right;\n",
              "    }\n",
              "</style>\n",
              "<table border=\"1\" class=\"dataframe\">\n",
              "  <thead>\n",
              "    <tr style=\"text-align: right;\">\n",
              "      <th></th>\n",
              "      <th>age</th>\n",
              "      <th>anaemia</th>\n",
              "      <th>creatinine_phosphokinase</th>\n",
              "      <th>diabetes</th>\n",
              "      <th>ejection_fraction</th>\n",
              "      <th>high_blood_pressure</th>\n",
              "      <th>platelets</th>\n",
              "      <th>serum_creatinine</th>\n",
              "      <th>serum_sodium</th>\n",
              "      <th>sex</th>\n",
              "      <th>smoking</th>\n",
              "      <th>time</th>\n",
              "      <th>DEATH_EVENT</th>\n",
              "    </tr>\n",
              "  </thead>\n",
              "  <tbody>\n",
              "    <tr>\n",
              "      <th>0</th>\n",
              "      <td>75.0</td>\n",
              "      <td>0</td>\n",
              "      <td>582</td>\n",
              "      <td>0</td>\n",
              "      <td>20</td>\n",
              "      <td>1</td>\n",
              "      <td>265000.00</td>\n",
              "      <td>1.9</td>\n",
              "      <td>130</td>\n",
              "      <td>1</td>\n",
              "      <td>0</td>\n",
              "      <td>4</td>\n",
              "      <td>1</td>\n",
              "    </tr>\n",
              "    <tr>\n",
              "      <th>1</th>\n",
              "      <td>55.0</td>\n",
              "      <td>0</td>\n",
              "      <td>7861</td>\n",
              "      <td>0</td>\n",
              "      <td>38</td>\n",
              "      <td>0</td>\n",
              "      <td>263358.03</td>\n",
              "      <td>1.1</td>\n",
              "      <td>136</td>\n",
              "      <td>1</td>\n",
              "      <td>0</td>\n",
              "      <td>6</td>\n",
              "      <td>1</td>\n",
              "    </tr>\n",
              "    <tr>\n",
              "      <th>2</th>\n",
              "      <td>65.0</td>\n",
              "      <td>0</td>\n",
              "      <td>146</td>\n",
              "      <td>0</td>\n",
              "      <td>20</td>\n",
              "      <td>0</td>\n",
              "      <td>162000.00</td>\n",
              "      <td>1.3</td>\n",
              "      <td>129</td>\n",
              "      <td>1</td>\n",
              "      <td>1</td>\n",
              "      <td>7</td>\n",
              "      <td>1</td>\n",
              "    </tr>\n",
              "    <tr>\n",
              "      <th>3</th>\n",
              "      <td>50.0</td>\n",
              "      <td>1</td>\n",
              "      <td>111</td>\n",
              "      <td>0</td>\n",
              "      <td>20</td>\n",
              "      <td>0</td>\n",
              "      <td>210000.00</td>\n",
              "      <td>1.9</td>\n",
              "      <td>137</td>\n",
              "      <td>1</td>\n",
              "      <td>0</td>\n",
              "      <td>7</td>\n",
              "      <td>1</td>\n",
              "    </tr>\n",
              "    <tr>\n",
              "      <th>4</th>\n",
              "      <td>65.0</td>\n",
              "      <td>1</td>\n",
              "      <td>160</td>\n",
              "      <td>1</td>\n",
              "      <td>20</td>\n",
              "      <td>0</td>\n",
              "      <td>327000.00</td>\n",
              "      <td>2.7</td>\n",
              "      <td>116</td>\n",
              "      <td>0</td>\n",
              "      <td>0</td>\n",
              "      <td>8</td>\n",
              "      <td>1</td>\n",
              "    </tr>\n",
              "    <tr>\n",
              "      <th>5</th>\n",
              "      <td>90.0</td>\n",
              "      <td>1</td>\n",
              "      <td>47</td>\n",
              "      <td>0</td>\n",
              "      <td>40</td>\n",
              "      <td>1</td>\n",
              "      <td>204000.00</td>\n",
              "      <td>2.1</td>\n",
              "      <td>132</td>\n",
              "      <td>1</td>\n",
              "      <td>1</td>\n",
              "      <td>8</td>\n",
              "      <td>1</td>\n",
              "    </tr>\n",
              "    <tr>\n",
              "      <th>6</th>\n",
              "      <td>75.0</td>\n",
              "      <td>1</td>\n",
              "      <td>246</td>\n",
              "      <td>0</td>\n",
              "      <td>15</td>\n",
              "      <td>0</td>\n",
              "      <td>127000.00</td>\n",
              "      <td>1.2</td>\n",
              "      <td>137</td>\n",
              "      <td>1</td>\n",
              "      <td>0</td>\n",
              "      <td>10</td>\n",
              "      <td>1</td>\n",
              "    </tr>\n",
              "    <tr>\n",
              "      <th>7</th>\n",
              "      <td>60.0</td>\n",
              "      <td>1</td>\n",
              "      <td>315</td>\n",
              "      <td>1</td>\n",
              "      <td>60</td>\n",
              "      <td>0</td>\n",
              "      <td>454000.00</td>\n",
              "      <td>1.1</td>\n",
              "      <td>131</td>\n",
              "      <td>1</td>\n",
              "      <td>1</td>\n",
              "      <td>10</td>\n",
              "      <td>1</td>\n",
              "    </tr>\n",
              "    <tr>\n",
              "      <th>8</th>\n",
              "      <td>65.0</td>\n",
              "      <td>0</td>\n",
              "      <td>157</td>\n",
              "      <td>0</td>\n",
              "      <td>65</td>\n",
              "      <td>0</td>\n",
              "      <td>263358.03</td>\n",
              "      <td>1.5</td>\n",
              "      <td>138</td>\n",
              "      <td>0</td>\n",
              "      <td>0</td>\n",
              "      <td>10</td>\n",
              "      <td>1</td>\n",
              "    </tr>\n",
              "    <tr>\n",
              "      <th>9</th>\n",
              "      <td>80.0</td>\n",
              "      <td>1</td>\n",
              "      <td>123</td>\n",
              "      <td>0</td>\n",
              "      <td>35</td>\n",
              "      <td>1</td>\n",
              "      <td>388000.00</td>\n",
              "      <td>9.4</td>\n",
              "      <td>133</td>\n",
              "      <td>1</td>\n",
              "      <td>1</td>\n",
              "      <td>10</td>\n",
              "      <td>1</td>\n",
              "    </tr>\n",
              "  </tbody>\n",
              "</table>\n",
              "</div>"
            ],
            "text/plain": [
              "    age  anaemia  creatinine_phosphokinase  diabetes  ejection_fraction  \\\n",
              "0  75.0        0                       582         0                 20   \n",
              "1  55.0        0                      7861         0                 38   \n",
              "2  65.0        0                       146         0                 20   \n",
              "3  50.0        1                       111         0                 20   \n",
              "4  65.0        1                       160         1                 20   \n",
              "5  90.0        1                        47         0                 40   \n",
              "6  75.0        1                       246         0                 15   \n",
              "7  60.0        1                       315         1                 60   \n",
              "8  65.0        0                       157         0                 65   \n",
              "9  80.0        1                       123         0                 35   \n",
              "\n",
              "   high_blood_pressure  platelets  serum_creatinine  serum_sodium  sex  \\\n",
              "0                    1  265000.00               1.9           130    1   \n",
              "1                    0  263358.03               1.1           136    1   \n",
              "2                    0  162000.00               1.3           129    1   \n",
              "3                    0  210000.00               1.9           137    1   \n",
              "4                    0  327000.00               2.7           116    0   \n",
              "5                    1  204000.00               2.1           132    1   \n",
              "6                    0  127000.00               1.2           137    1   \n",
              "7                    0  454000.00               1.1           131    1   \n",
              "8                    0  263358.03               1.5           138    0   \n",
              "9                    1  388000.00               9.4           133    1   \n",
              "\n",
              "   smoking  time  DEATH_EVENT  \n",
              "0        0     4            1  \n",
              "1        0     6            1  \n",
              "2        1     7            1  \n",
              "3        0     7            1  \n",
              "4        0     8            1  \n",
              "5        1     8            1  \n",
              "6        0    10            1  \n",
              "7        1    10            1  \n",
              "8        0    10            1  \n",
              "9        1    10            1  "
            ]
          },
          "execution_count": 20,
          "metadata": {},
          "output_type": "execute_result"
        }
      ],
      "source": [
        "heart_df.head(10)"
      ]
    },
    {
      "cell_type": "markdown",
      "metadata": {
        "id": "7kNl2WpSymHO"
      },
      "source": [
        "### (d)"
      ]
    },
    {
      "cell_type": "code",
      "execution_count": 21,
      "metadata": {
        "id": "AblNbsncymHO"
      },
      "outputs": [
        {
          "name": "stdout",
          "output_type": "stream",
          "text": [
            "Number of rows: 299\n",
            "Number of columns: 13\n"
          ]
        }
      ],
      "source": [
        "rows, columns = heart_df.shape\n",
        "\n",
        "print(f\"Number of rows: {rows}\")\n",
        "print(f\"Number of columns: {columns}\")"
      ]
    },
    {
      "cell_type": "markdown",
      "metadata": {
        "id": "xuh9-lN7ymHP"
      },
      "source": [
        "### (e)"
      ]
    },
    {
      "cell_type": "markdown",
      "metadata": {
        "id": "tL9qHIJXymHP"
      },
      "source": [
        "299 samples"
      ]
    },
    {
      "cell_type": "markdown",
      "metadata": {
        "id": "csN1zEzLymHP"
      },
      "source": [
        "### (f)"
      ]
    },
    {
      "cell_type": "markdown",
      "metadata": {
        "id": "a0HNj-AyymHP"
      },
      "source": [
        "There are 12 independent variables:\n",
        "'age', 'anaemia', 'creatinine_phosphokinase', 'diabetes',\n",
        "       'ejection_fraction', 'high_blood_pressure', 'platelets',\n",
        "       'serum_creatinine', 'serum_sodium', 'sex', 'smoking', 'time'"
      ]
    },
    {
      "cell_type": "markdown",
      "metadata": {
        "id": "Ayov9je2ymHQ"
      },
      "source": [
        "### (g)"
      ]
    },
    {
      "cell_type": "markdown",
      "metadata": {
        "id": "B4E676ygymHQ"
      },
      "source": [
        "1 Dependent Variable: Death_Event"
      ]
    },
    {
      "cell_type": "markdown",
      "metadata": {
        "id": "a8Bo-uKXymHQ"
      },
      "source": [
        "### (h)"
      ]
    },
    {
      "cell_type": "markdown",
      "metadata": {
        "id": "3gxnjWUgymHQ"
      },
      "source": [
        "n:299\n",
        "p:12"
      ]
    },
    {
      "cell_type": "markdown",
      "metadata": {
        "id": "G9BxqfsbymHQ"
      },
      "source": [
        "### (i)"
      ]
    },
    {
      "cell_type": "markdown",
      "metadata": {
        "id": "2bXh4Av6ymHR"
      },
      "source": [
        "n:299\n",
        "m : 1"
      ]
    },
    {
      "cell_type": "markdown",
      "metadata": {
        "id": "OzpMBV2cymHR"
      },
      "source": [
        "### (j)"
      ]
    },
    {
      "cell_type": "code",
      "execution_count": 22,
      "metadata": {
        "id": "CM0kJiNMzftk"
      },
      "outputs": [
        {
          "name": "stdout",
          "output_type": "stream",
          "text": [
            "Column: anaemia\n",
            "Number of unique values: 2\n",
            "Unique values: [0 1]\n",
            "--------------------------------------------------\n",
            "Column: diabetes\n",
            "Number of unique values: 2\n",
            "Unique values: [0 1]\n",
            "--------------------------------------------------\n",
            "Column: high_blood_pressure\n",
            "Number of unique values: 2\n",
            "Unique values: [1 0]\n",
            "--------------------------------------------------\n",
            "Column: sex\n",
            "Number of unique values: 2\n",
            "Unique values: [1 0]\n",
            "--------------------------------------------------\n",
            "Column: smoking\n",
            "Number of unique values: 2\n",
            "Unique values: [0 1]\n",
            "--------------------------------------------------\n",
            "Column: DEATH_EVENT\n",
            "Number of unique values: 2\n",
            "Unique values: [1 0]\n",
            "--------------------------------------------------\n",
            "\n",
            "Total number of categorical variables: 6\n",
            "Names of categorical variables: ['anaemia', 'diabetes', 'high_blood_pressure', 'sex', 'smoking', 'DEATH_EVENT']\n"
          ]
        },
        {
          "data": {
            "text/plain": [
              "array([[<Axes: title={'center': 'age'}>,\n",
              "        <Axes: title={'center': 'anaemia'}>,\n",
              "        <Axes: title={'center': 'creatinine_phosphokinase'}>,\n",
              "        <Axes: title={'center': 'diabetes'}>],\n",
              "       [<Axes: title={'center': 'ejection_fraction'}>,\n",
              "        <Axes: title={'center': 'high_blood_pressure'}>,\n",
              "        <Axes: title={'center': 'platelets'}>,\n",
              "        <Axes: title={'center': 'serum_creatinine'}>],\n",
              "       [<Axes: title={'center': 'serum_sodium'}>,\n",
              "        <Axes: title={'center': 'sex'}>,\n",
              "        <Axes: title={'center': 'smoking'}>,\n",
              "        <Axes: title={'center': 'time'}>],\n",
              "       [<Axes: title={'center': 'DEATH_EVENT'}>, <Axes: >, <Axes: >,\n",
              "        <Axes: >]], dtype=object)"
            ]
          },
          "execution_count": 22,
          "metadata": {},
          "output_type": "execute_result"
        },
        {
          "data": {
            "image/png": "[encoded data removed]",
            "text/plain": [
              "<Figure size 1500x1500 with 16 Axes>"
            ]
          },
          "metadata": {},
          "output_type": "display_data"
        }
      ],
      "source": [
        "categorical_variables = []\n",
        "\n",
        "\n",
        "threshold = 5  \n",
        "\n",
        "\n",
        "for column in heart_df.columns:\n",
        "    unique_values = heart_df[column].unique()\n",
        "    num_unique_values = len(unique_values)\n",
        "    \n",
        "   \n",
        "    if num_unique_values <= threshold:\n",
        "        categorical_variables.append(column)\n",
        "        print(f\"Column: {column}\")\n",
        "        print(f\"Number of unique values: {num_unique_values}\")\n",
        "        print(f\"Unique values: {unique_values}\")\n",
        "        print(\"-\" * 50)\n",
        "\n",
        "\n",
        "print(f\"\\nTotal number of categorical variables: {len(categorical_variables)}\")\n",
        "print(\"Names of categorical variables:\", categorical_variables)\n",
        "heart_df.hist(figsize=(15, 15), bins=20)"
      ]
    },
    {
      "cell_type": "markdown",
      "metadata": {
        "id": "1tX1-uIgymHR"
      },
      "source": [
        "Based on the histogram we can clearly se ethere are 6 categorical variables: 'anaemia', 'diabetes', 'high_blood_pressure', 'sex', 'smoking', 'DEATH_EVENT'\n",
        "When running the algorithm to find uniqueness I set a threshold of 5 because it seemed appropriate for a 300 samples"
      ]
    },
    {
      "cell_type": "markdown",
      "metadata": {
        "id": "2BBhe25UymHR"
      },
      "source": [
        "### (k)"
      ]
    },
    {
      "cell_type": "markdown",
      "metadata": {
        "id": "PNxn1zIzymHR"
      },
      "source": [
        "Binary Encoding as each variable is 1 or 0"
      ]
    },
    {
      "cell_type": "markdown",
      "metadata": {
        "id": "e9TnxUb3ymHR"
      },
      "source": [
        "### (l)"
      ]
    },
    {
      "cell_type": "code",
      "execution_count": 23,
      "metadata": {
        "id": "KUfiYo3lymHS"
      },
      "outputs": [
        {
          "name": "stdout",
          "output_type": "stream",
          "text": [
            "Number of deceased patients: 96\n",
            "Number of alive patients: 203\n"
          ]
        }
      ],
      "source": [
        "death_event_counts = heart_df['DEATH_EVENT'].value_counts()\n",
        "\n",
        "\n",
        "print(f\"Number of deceased patients: {death_event_counts[1]}\")\n",
        "print(f\"Number of alive patients: {death_event_counts[0]}\")\n"
      ]
    },
    {
      "cell_type": "markdown",
      "metadata": {
        "id": "VlxMlRziymHS"
      },
      "source": [
        "### (m)"
      ]
    },
    {
      "cell_type": "code",
      "execution_count": 24,
      "metadata": {
        "id": "Kp2yCXJ-z3Gh"
      },
      "outputs": [
        {
          "name": "stdout",
          "output_type": "stream",
          "text": [
            "Number of female patients: 105\n",
            "Number of male patients: 194\n"
          ]
        }
      ],
      "source": [
        "womancount = heart_df['sex'].value_counts()\n",
        "\n",
        "# assuming 1 is woman\n",
        "print(f\"Number of female patients: {womancount[0]}\")\n",
        "print(f\"Number of male patients: {womancount[1]}\")"
      ]
    },
    {
      "cell_type": "markdown",
      "metadata": {
        "id": "S-53k2x3ymHS"
      },
      "source": [
        "### (n)"
      ]
    },
    {
      "cell_type": "code",
      "execution_count": 25,
      "metadata": {
        "id": "emwfFgVAymHT"
      },
      "outputs": [
        {
          "name": "stdout",
          "output_type": "stream",
          "text": [
            "Number of smokers: 96\n",
            "Number of non-smokers: 203\n"
          ]
        }
      ],
      "source": [
        "smoking_counts = heart_df['smoking'].value_counts()\n",
        "\n",
        "print(f\"Number of smokers: {smoking_counts[1]}\")\n",
        "print(f\"Number of non-smokers: {smoking_counts[0]}\")"
      ]
    },
    {
      "cell_type": "markdown",
      "metadata": {
        "id": "FpQWnOOpymHT"
      },
      "source": [
        "## Problem 2.2"
      ]
    },
    {
      "cell_type": "code",
      "execution_count": 26,
      "metadata": {
        "id": "QmAtpjMiymHU"
      },
      "outputs": [
        {
          "name": "stdout",
          "output_type": "stream",
          "text": [
            "      age  ejection_fraction\n",
            "185   NaN                 30\n",
            "186  50.0                 50\n",
            "187  60.0                 25\n",
            "188   NaN                 40\n",
            "189  40.0                 45\n",
            "190  80.0                 35\n",
            "191  64.0                 60\n",
            "192  50.0                 40\n",
            "193  73.0                 30\n",
            "194  45.0                 20\n",
            "195  77.0                 45\n"
          ]
        }
      ],
      "source": [
        "heart_df['age'] = heart_df['age'].apply(lambda x: np.nan if x != int(x) else x)\n",
        "\n",
        "heart_df['ejection_fraction'] = heart_df['ejection_fraction'].apply(lambda x: np.nan if x <= 0 or x >= 100 else x)\n",
        "\n",
        "\n",
        "print(heart_df.loc[185:195, ['age', 'ejection_fraction']])\n"
      ]
    },
    {
      "cell_type": "markdown",
      "metadata": {
        "id": "it9WyiZiymHU"
      },
      "source": [
        "Based on my research, the only Variables that might be inconsistant here are age(eg negative or not whole numbers) or ejection fraction which is supposed to be a percentage. \n",
        "Some variables are catagorical which can be clearly seen on histograms so I have not included thos  ein my analysis"
      ]
    },
    {
      "cell_type": "markdown",
      "metadata": {
        "id": "6fqh4x4FymHV"
      },
      "source": [
        "## Problem 2.3"
      ]
    },
    {
      "cell_type": "code",
      "execution_count": 27,
      "metadata": {
        "id": "gMs526ezymHV"
      },
      "outputs": [
        {
          "name": "stdout",
          "output_type": "stream",
          "text": [
            "         age  anaemia  creatinine_phosphokinase  diabetes  ejection_fraction  \\\n",
            "0   1.186852        0                  0.000165         0          -1.527998   \n",
            "1  -0.488903        0                  7.502063         0          -0.007065   \n",
            "2   0.348975        0                 -0.449186         0          -1.527998   \n",
            "3  -0.907842        1                 -0.485257         0          -1.527998   \n",
            "4   0.348975        1                 -0.434757         1          -1.527998   \n",
            "5   2.443668        1                 -0.551217         0           0.161928   \n",
            "6   1.186852        1                 -0.346124         0          -1.950479   \n",
            "7  -0.069964        1                 -0.275011         1           1.851853   \n",
            "8   0.348975        0                 -0.437849         0           2.274335   \n",
            "9   1.605791        1                 -0.472890         0          -0.260554   \n",
            "10  1.186852        1                 -0.516176         0          -0.007065   \n",
            "11  0.097611        0                 -0.361583         0          -1.105517   \n",
            "12 -1.326780        1                  0.411384         0          -0.683035   \n",
            "13 -0.907842        1                 -0.426512         0          -0.007065   \n",
            "14 -0.991629        1                 -0.517207         0          -0.683035   \n",
            "15  1.773366        1                 -0.209051         0           1.006890   \n",
            "16  2.192305        1                 -0.446094         0          -0.007065   \n",
            "17 -1.326780        0                  0.000165         0          -2.034976   \n",
            "18  0.767913        1                 -0.470829         0          -1.105517   \n",
            "19 -1.075417        1                  0.000165         1           1.429372   \n",
            "\n",
            "    high_blood_pressure     platelets  serum_creatinine  serum_sodium  sex  \\\n",
            "0                     1  1.678834e-02          0.489237     -1.501519    1   \n",
            "1                     0  7.523048e-09         -0.284076     -0.141739    1   \n",
            "2                     0 -1.036336e+00         -0.090748     -1.728149    1   \n",
            "3                     0 -5.455595e-01          0.489237      0.084892    1   \n",
            "4                     0  6.507077e-01          1.262550     -4.674340    0   \n",
            "5                     1 -6.069065e-01          0.682565     -1.048259    1   \n",
            "6                     0 -1.394193e+00         -0.187412      0.084892    1   \n",
            "7                     0  1.949220e+00         -0.284076     -1.274889    1   \n",
            "8                     0  7.523048e-09          0.102580      0.311522    0   \n",
            "9                     1  1.274403e+00          7.739045     -0.821629    1   \n",
            "10                    1  1.069912e+00          2.519183     -1.274889    1   \n",
            "11                    1 -1.059057e-01         -0.477404      0.764782    1   \n",
            "12                    0 -1.302173e+00         -0.284076      0.084892    1   \n",
            "13                    1  1.292579e-01         -0.284076      0.084892    1   \n",
            "14                    1  1.673158e+00         -0.380740      0.311522    0   \n",
            "15                    0 -2.212154e+00         -0.090748     -0.141739    1   \n",
            "16                    0 -1.388518e-02         -0.477404      0.764782    1   \n",
            "17                    0 -9.954377e-01         -0.574068     -2.181409    1   \n",
            "18                    1 -2.694978e-01         -0.380740      0.764782    0   \n",
            "19                    0 -1.803174e+00          0.489237     -3.541189    0   \n",
            "\n",
            "    smoking      time  DEATH_EVENT  \n",
            "0         0 -1.626775            1  \n",
            "1         0 -1.601007            1  \n",
            "2         1 -1.588122            1  \n",
            "3         0 -1.588122            1  \n",
            "4         0 -1.575238            1  \n",
            "5         1 -1.575238            1  \n",
            "6         0 -1.549470            1  \n",
            "7         1 -1.549470            1  \n",
            "8         0 -1.549470            1  \n",
            "9         1 -1.549470            1  \n",
            "10        1 -1.549470            1  \n",
            "11        1 -1.549470            1  \n",
            "12        0 -1.536586            1  \n",
            "13        0 -1.536586            1  \n",
            "14        0 -1.523701            0  \n",
            "15        0 -1.510817            1  \n",
            "16        0 -1.497933            1  \n",
            "17        0 -1.497933            1  \n",
            "18        0 -1.485049            1  \n",
            "19        0 -1.485049            1  \n"
          ]
        }
      ],
      "source": [
        "categorical_columns = ['anaemia', 'diabetes', 'high_blood_pressure', 'sex', 'smoking', 'DEATH_EVENT']\n",
        "non_categorical_columns = heart_df.select_dtypes(include=['float64', 'int64']).columns.difference(categorical_columns)\n",
        "\n",
        "\n",
        "for column in non_categorical_columns:\n",
        "    mean = heart_df[column].mean(skipna=True)\n",
        "    std = heart_df[column].std(skipna=True)\n",
        "    \n",
        "   \n",
        "    heart_df[column] = (heart_df[column] - mean) / std\n",
        "\n",
        "\n",
        "print(heart_df.head(20))"
      ]
    },
    {
      "cell_type": "markdown",
      "metadata": {
        "id": "E98vhjP2ymHV"
      },
      "source": [
        "## Problem 2.4"
      ]
    },
    {
      "cell_type": "code",
      "execution_count": 28,
      "metadata": {
        "id": "SPylR2kxymHW"
      },
      "outputs": [
        {
          "name": "stdout",
          "output_type": "stream",
          "text": [
            "The pre-processed dataset with 'DEATH_EVENT' one-hot encoded has been saved as 'heart_failure_dataset_processed.csv'.\n"
          ]
        }
      ],
      "source": [
        "heart_df['DEATH_EVENT'] = heart_df['DEATH_EVENT'].astype(int)\n",
        "\n",
        "heart_df_encoded = pd.get_dummies(heart_df, columns=['DEATH_EVENT'], prefix='death')\n",
        "\n",
        "heart_df_encoded = heart_df_encoded.applymap(lambda x: 1 if x is True else (0 if x is False else x))\n",
        "\n",
        "heart_df_encoded.to_csv('heart_failure_dataset_processed.csv', index=False)\n",
        "\n",
        "print(\"The pre-processed dataset with 'DEATH_EVENT' one-hot encoded has been saved as 'heart_failure_dataset_processed.csv'.\")"
      ]
    },
    {
      "cell_type": "markdown",
      "metadata": {
        "id": "xfPMV5BEymHW"
      },
      "source": [
        "## Problem 2.5"
      ]
    },
    {
      "cell_type": "code",
      "execution_count": 29,
      "metadata": {
        "id": "RgVpyMUmymHW"
      },
      "outputs": [
        {
          "name": "stdout",
          "output_type": "stream",
          "text": [
            "                               age   anaemia  creatinine_phosphokinase  \\\n",
            "age                       1.000000  0.088509                 -0.081689   \n",
            "anaemia                   0.088509  1.000000                 -0.190741   \n",
            "creatinine_phosphokinase -0.081689 -0.190741                  1.000000   \n",
            "diabetes                 -0.101377 -0.012729                 -0.009639   \n",
            "ejection_fraction         0.060124  0.031557                 -0.044080   \n",
            "high_blood_pressure       0.093693  0.038182                 -0.070590   \n",
            "platelets                -0.052505 -0.043786                  0.024463   \n",
            "serum_creatinine          0.159216  0.052174                 -0.016408   \n",
            "serum_sodium             -0.045982  0.041882                  0.059550   \n",
            "sex                       0.065663 -0.094769                  0.079791   \n",
            "smoking                   0.018632 -0.107290                  0.002421   \n",
            "time                     -0.224232 -0.141414                 -0.009346   \n",
            "DEATH_EVENT               0.254871  0.066270                  0.062728   \n",
            "\n",
            "                          diabetes  ejection_fraction  high_blood_pressure  \\\n",
            "age                      -0.101377           0.060124             0.093693   \n",
            "anaemia                  -0.012729           0.031557             0.038182   \n",
            "creatinine_phosphokinase -0.009639          -0.044080            -0.070590   \n",
            "diabetes                  1.000000          -0.004850            -0.012732   \n",
            "ejection_fraction        -0.004850           1.000000             0.024445   \n",
            "high_blood_pressure      -0.012732           0.024445             1.000000   \n",
            "platelets                 0.092193           0.072177             0.049963   \n",
            "serum_creatinine         -0.046975          -0.011302            -0.004935   \n",
            "serum_sodium             -0.089551           0.175902             0.037109   \n",
            "sex                      -0.157730          -0.148386            -0.104615   \n",
            "smoking                  -0.147173          -0.067315            -0.055711   \n",
            "time                      0.033726           0.041729            -0.196439   \n",
            "DEATH_EVENT              -0.001943          -0.268603             0.079351   \n",
            "\n",
            "                          platelets  serum_creatinine  serum_sodium       sex  \\\n",
            "age                       -0.052505          0.159216     -0.045982  0.065663   \n",
            "anaemia                   -0.043786          0.052174      0.041882 -0.094769   \n",
            "creatinine_phosphokinase   0.024463         -0.016408      0.059550  0.079791   \n",
            "diabetes                   0.092193         -0.046975     -0.089551 -0.157730   \n",
            "ejection_fraction          0.072177         -0.011302      0.175902 -0.148386   \n",
            "high_blood_pressure        0.049963         -0.004935      0.037109 -0.104615   \n",
            "platelets                  1.000000         -0.041198      0.062125 -0.125120   \n",
            "serum_creatinine          -0.041198          1.000000     -0.189095  0.006970   \n",
            "serum_sodium               0.062125         -0.189095      1.000000 -0.027566   \n",
            "sex                       -0.125120          0.006970     -0.027566  1.000000   \n",
            "smoking                    0.028234         -0.027414      0.004813  0.445892   \n",
            "time                       0.010514         -0.149315      0.087640 -0.015608   \n",
            "DEATH_EVENT               -0.049139          0.294278     -0.195204 -0.004316   \n",
            "\n",
            "                           smoking      time  DEATH_EVENT  \n",
            "age                       0.018632 -0.224232     0.254871  \n",
            "anaemia                  -0.107290 -0.141414     0.066270  \n",
            "creatinine_phosphokinase  0.002421 -0.009346     0.062728  \n",
            "diabetes                 -0.147173  0.033726    -0.001943  \n",
            "ejection_fraction        -0.067315  0.041729    -0.268603  \n",
            "high_blood_pressure      -0.055711 -0.196439     0.079351  \n",
            "platelets                 0.028234  0.010514    -0.049139  \n",
            "serum_creatinine         -0.027414 -0.149315     0.294278  \n",
            "serum_sodium              0.004813  0.087640    -0.195204  \n",
            "sex                       0.445892 -0.015608    -0.004316  \n",
            "smoking                   1.000000 -0.022839    -0.012623  \n",
            "time                     -0.022839  1.000000    -0.526964  \n",
            "DEATH_EVENT              -0.012623 -0.526964     1.000000  \n"
          ]
        }
      ],
      "source": [
        "correlation_matrix = heart_df.corr()\n",
        "\n",
        "\n",
        "print(correlation_matrix)"
      ]
    },
    {
      "cell_type": "markdown",
      "metadata": {
        "id": "ANRm2Vxh1Cda"
      },
      "source": [
        "### (a)"
      ]
    },
    {
      "cell_type": "markdown",
      "metadata": {
        "id": "2E0LfOKm1CVp"
      },
      "source": [
        "Age and Serum Creatinine are most positively correlated with death Event with values of 0.25,0.29 respectively"
      ]
    },
    {
      "cell_type": "markdown",
      "metadata": {
        "id": "HewpTMK61CI7"
      },
      "source": [
        "### (b)"
      ]
    },
    {
      "cell_type": "markdown",
      "metadata": {
        "id": "LRK015A91B-R"
      },
      "source": [
        "Time and ejection fraction are most negatively correlated with DEATH_EVENT with values of -0.52,-0.26"
      ]
    },
    {
      "cell_type": "markdown",
      "metadata": {
        "id": "jnGzZ9gO1BoX"
      },
      "source": [
        "### (c)"
      ]
    },
    {
      "cell_type": "markdown",
      "metadata": {
        "id": "zXc0HGwg1BlY"
      },
      "source": [
        "The Second most correlated factor, Age in this case is positevly correlated with death because age itself has a positive correlation with other variables in the dataset. As age increases, the likelihood of DEATH_EVENT = 1 increases. This is why it makes logical sense for DEATH_EVENT to occour when it has a positive correlation with age."
      ]
    },
    {
      "cell_type": "markdown",
      "metadata": {
        "id": "fE1TPn3s1Xq9"
      },
      "source": [
        "### (d)"
      ]
    },
    {
      "cell_type": "markdown",
      "metadata": {
        "id": "1RXjXFH81XhL"
      },
      "source": [
        "A negative correlation with DEATH_EVENT means that as time increases (i.e., the patient doesn't get a checkup for longer), the likelihood of observing DEATH_EVENT decreases. The reason might be if a person feels healthy, they won't be regular for checkups. The Same applies for ejection fraction. if the value of ejection fraction is high (ie the heart pumps more blood), the chances of death event are very low."
      ]
    }
  ],
  "metadata": {
    "colab": {
      "collapsed_sections": [],
      "provenance": []
    },
    "kernelspec": {
      "display_name": "Python 3",
      "language": "python",
      "name": "python3"
    },
    "language_info": {
      "codemirror_mode": {
        "name": "ipython",
        "version": 3
      },
      "file_extension": ".py",
      "mimetype": "text/x-python",
      "name": "python",
      "nbconvert_exporter": "python",
      "pygments_lexer": "ipython3",
      "version": "3.11.3"
    }
  },
  "nbformat": 4,
  "nbformat_minor": 0
}
